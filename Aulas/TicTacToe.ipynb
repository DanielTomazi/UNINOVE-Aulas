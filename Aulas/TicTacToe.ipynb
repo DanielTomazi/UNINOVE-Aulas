{
  "cells": [
    {
      "cell_type": "code",
      "source": [
        "import random\n",
        "import numpy as np\n",
        "\n",
        "# Função para imprimir o tabuleiro\n",
        "def print_board(board):\n",
        "    for row in board:\n",
        "        print(' '.join(row))\n",
        "    print()\n",
        "\n",
        "# Função para verificar se há um vencedor\n",
        "def check_winner(board, player):\n",
        "    # Verifica linhas, colunas e diagonais\n",
        "    for i in range(3):\n",
        "        if all([cell == player for cell in board[i]]) or all([board[j][i] == player for j in range(3)]):\n",
        "            return True\n",
        "    if board[0][0] == board[1][1] == board[2][2] == player or board[0][2] == board[1][1] == board[2][0] == player:\n",
        "        return True\n",
        "    return False\n",
        "\n",
        "# Função para verificar se o tabuleiro está cheio (empate)\n",
        "def is_full(board):\n",
        "    return all(cell != ' ' for row in board for cell in row)\n",
        "\n",
        "# Função para fazer uma jogada aleatória\n",
        "def random_move(board, player):\n",
        "    empty_cells = [(i, j) for i in range(3) for j in range(3) if board[i][j] == ' ']\n",
        "    if empty_cells:\n",
        "        i, j = random.choice(empty_cells)\n",
        "        board[i][j] = player\n",
        "\n",
        "# Função para jogar uma partida com dois jogadores aleatórios\n",
        "def play_random_game():\n",
        "    board = [[' ' for _ in range(3)] for _ in range(3)]\n",
        "    current_player = 'X'\n",
        "    while True:\n",
        "        random_move(board, current_player)\n",
        "        if check_winner(board, current_player):\n",
        "            return current_player\n",
        "        if is_full(board):\n",
        "            return 'Draw'\n",
        "        current_player = 'O' if current_player == 'X' else 'X'\n",
        "\n",
        "# Simulação de 1000 partidas com estratégias aleatórias\n",
        "def simulate_random_games(num_games):\n",
        "    results = {'X': 0, 'O': 0, 'Draw': 0}\n",
        "    for _ in range(num_games):\n",
        "        result = play_random_game()\n",
        "        results[result] += 1\n",
        "    return results\n",
        "\n",
        "# Simulando 1000 partidas\n",
        "num_games = 1000\n",
        "random_results = simulate_random_games(num_games)\n",
        "print(\"Resultados das partidas aleatórias:\", random_results)\n"
      ],
      "metadata": {
        "colab": {
          "base_uri": "https://localhost:8080/"
        },
        "id": "MhW25LFyJy-l",
        "outputId": "2b3e35aa-032a-4707-920a-ef707d8fb747"
      },
      "execution_count": null,
      "outputs": [
        {
          "output_type": "stream",
          "name": "stdout",
          "text": [
            "Resultados das partidas aleatórias: {'X': 577, 'O': 304, 'Draw': 119}\n"
          ]
        }
      ]
    },
    {
      "cell_type": "code",
      "source": [
        "# Função para fazer uma jogada com base na Simulação Monte Carlo\n",
        "def monte_carlo_move(board, player, simulations=100):\n",
        "    def simulate(board, player):\n",
        "        simulation_board = [row[:] for row in board]\n",
        "        current_player = player\n",
        "        while True:\n",
        "            random_move(simulation_board, current_player)\n",
        "            if check_winner(simulation_board, current_player):\n",
        "                return current_player\n",
        "            if is_full(simulation_board):\n",
        "                return 'Draw'\n",
        "            current_player = 'O' if current_player == 'X' else 'X'\n",
        "\n",
        "    empty_cells = [(i, j) for i in range(3) for j in range(3) if board[i][j] == ' ']\n",
        "    if not empty_cells:\n",
        "        return\n",
        "\n",
        "    win_counts = {cell: 0 for cell in empty_cells}\n",
        "\n",
        "    for cell in empty_cells:\n",
        "        for _ in range(simulations):\n",
        "            simulation_board = [row[:] for row in board]\n",
        "            simulation_board[cell[0]][cell[1]] = player\n",
        "            result = simulate(simulation_board, 'O' if player == 'X' else 'X')\n",
        "            if result == player:\n",
        "                win_counts[cell] += 1\n",
        "            elif result == 'Draw':\n",
        "                win_counts[cell] += 0.5\n",
        "\n",
        "    best_move = max(win_counts, key=win_counts.get)\n",
        "    board[best_move[0]][best_move[1]] = player\n",
        "\n",
        "# Função para jogar uma partida com um jogador usando Simulação Monte Carlo\n",
        "def play_monte_carlo_game(simulations=100):\n",
        "    board = [[' ' for _ in range(3)] for _ in range(3)]\n",
        "    current_player = 'X'\n",
        "    while True:\n",
        "        if current_player == 'X':\n",
        "            monte_carlo_move(board, current_player, simulations)\n",
        "        else:\n",
        "            random_move(board, current_player)\n",
        "        if check_winner(board, current_player):\n",
        "            return current_player\n",
        "        if is_full(board):\n",
        "            return 'Draw'\n",
        "        current_player = 'O' if current_player == 'X' else 'X'\n",
        "\n",
        "# Simulação de 1000 partidas com Simulação Monte Carlo\n",
        "def simulate_monte_carlo_games(num_games, simulations=100):\n",
        "    results = {'X': 0, 'O': 0, 'Draw': 0}\n",
        "    for _ in range(num_games):\n",
        "        result = play_monte_carlo_game(simulations)\n",
        "        results[result] += 1\n",
        "    return results\n",
        "\n",
        "# Simulando 1000 partidas com Simulação Monte Carlo\n",
        "monte_carlo_results = simulate_monte_carlo_games(num_games, simulations=100)\n",
        "print(\"Resultados das partidas com Simulação Monte Carlo:\", monte_carlo_results)\n"
      ],
      "metadata": {
        "colab": {
          "base_uri": "https://localhost:8080/"
        },
        "id": "f9TXGUqaJ8oT",
        "outputId": "3c5bb1e2-407b-48bd-ee18-d4e85553f33d"
      },
      "execution_count": null,
      "outputs": [
        {
          "output_type": "stream",
          "name": "stdout",
          "text": [
            "Resultados das partidas com Simulação Monte Carlo: {'X': 963, 'O': 0, 'Draw': 37}\n"
          ]
        }
      ]
    }
  ],
  "metadata": {
    "colab": {
      "toc_visible": true,
      "provenance": []
    },
    "kernelspec": {
      "display_name": "Python 3",
      "name": "python3"
    }
  },
  "nbformat": 4,
  "nbformat_minor": 0
}