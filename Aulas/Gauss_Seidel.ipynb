{
  "nbformat": 4,
  "nbformat_minor": 0,
  "metadata": {
    "colab": {
      "provenance": []
    },
    "kernelspec": {
      "name": "python3",
      "display_name": "Python 3"
    },
    "language_info": {
      "name": "python"
    }
  },
  "cells": [
    {
      "cell_type": "code",
      "execution_count": 2,
      "metadata": {
        "colab": {
          "base_uri": "https://localhost:8080/"
        },
        "id": "dTuAghvwvmw2",
        "outputId": "3e8a5350-6ecf-4cd2-f067-f262527a65c7"
      },
      "outputs": [
        {
          "output_type": "stream",
          "name": "stdout",
          "text": [
            "A matriz é diagonalmente dominante. Vamos aplicar o método de Gauss-Seidel.\n",
            "Solução encontrada pelo método de Gauss-Seidel: [1 0 0]\n"
          ]
        }
      ],
      "source": [
        "import numpy as np\n",
        "\n",
        "A = np.array([\n",
        "    [5, 1, 1],\n",
        "    [3, 4, 1],\n",
        "    [3, 3, 6]\n",
        "])\n",
        "\n",
        "b = np.array([5, 6, 0])\n",
        "\n",
        "def is_diagonally_dominant(A):\n",
        "    D = np.diag(np.abs(A))\n",
        "    S = np.sum(np.abs(A), axis=1) - D\n",
        "    return np.all(D >= S)\n",
        "\n",
        "if is_diagonally_dominant(A):\n",
        "    print(\"A matriz é diagonalmente dominante. Vamos aplicar o método de Gauss-Seidel.\")\n",
        "\n",
        "    def gauss_seidel(A, b, x0=None, tol=1e-10, max_iterations=1000):\n",
        "        n = len(A)\n",
        "        x = np.zeros_like(b) if x0 is None else x0\n",
        "        for _ in range(max_iterations):\n",
        "            x_new = np.copy(x)\n",
        "            for i in range(n):\n",
        "                s1 = np.dot(A[i, :i], x_new[:i])\n",
        "                s2 = np.dot(A[i, i + 1:], x[i + 1:])\n",
        "                x_new[i] = (b[i] - s1 - s2) / A[i, i]\n",
        "            if np.linalg.norm(x_new - x, ord=np.inf) < tol:\n",
        "                return x_new\n",
        "            x = x_new\n",
        "        raise ValueError(\"Gauss-Seidel method did not converge\")\n",
        "\n",
        "    x0 = np.zeros_like(b)\n",
        "    solution = gauss_seidel(A, b, x0)\n",
        "    print(\"Solução encontrada pelo método de Gauss-Seidel:\", solution)\n",
        "\n",
        "else:\n",
        "    print(\"A matriz não é diagonalmente dominante. Vamos aplicar a regra de Cramer.\")\n",
        "\n",
        "    def cramer_rule(A, b):\n",
        "        n = len(A)\n",
        "        det_A = np.linalg.det(A)\n",
        "        if det_A == 0:\n",
        "            raise ValueError(\"O sistema não tem solução única\")\n",
        "        solutions = []\n",
        "        for i in range(n):\n",
        "            Ai = np.copy(A)\n",
        "            Ai[:, i] = b\n",
        "            solutions.append(np.linalg.det(Ai) / det_A)\n",
        "        return np.array(solutions)\n",
        "\n",
        "    solution = cramer_rule(A, b)\n",
        "    print(\"Solução encontrada pela regra de Cramer:\", solution)\n"
      ]
    },
    {
      "cell_type": "code",
      "source": [
        "import numpy as np\n",
        "\n",
        "A = np.array([\n",
        "    [3, -1, -1],\n",
        "    [-1, 3, 1],\n",
        "    [2, 1, 4]\n",
        "])\n",
        "\n",
        "b = np.array([1, 3, 7])\n",
        "\n",
        "def is_diagonally_dominant(A):\n",
        "    D = np.diag(np.abs(A))\n",
        "    S = np.sum(np.abs(A), axis=1) - D\n",
        "    return np.all(D >= S)\n",
        "\n",
        "if is_diagonally_dominant(A):\n",
        "    print(\"A matriz é diagonalmente dominante. Vamos aplicar o método de Gauss-Seidel.\")\n",
        "\n",
        "    def gauss_seidel(A, b, x0=None, tol=1e-10, max_iterations=1000):\n",
        "        n = len(A)\n",
        "        x = np.zeros_like(b) if x0 is None else x0\n",
        "        for _ in range(max_iterations):\n",
        "            x_new = np.copy(x)\n",
        "            for i in range(n):\n",
        "                s1 = np.dot(A[i, :i], x_new[:i])\n",
        "                s2 = np.dot(A[i, i + 1:], x[i + 1:])\n",
        "                x_new[i] = (b[i] - s1 - s2) / A[i, i]\n",
        "            if np.linalg.norm(x_new - x, ord=np.inf) < tol:\n",
        "                return x_new\n",
        "            x = x_new\n",
        "        raise ValueError(\"Gauss-Seidel method did not converge\")\n",
        "\n",
        "    x0 = np.zeros_like(b)\n",
        "    solution = gauss_seidel(A, b, x0)\n",
        "    print(\"Solução encontrada pelo método de Gauss-Seidel:\", solution)\n",
        "\n",
        "else:\n",
        "    print(\"A matriz não é diagonalmente dominante. Vamos aplicar a regra de Cramer.\")\n",
        "\n",
        "    def cramer_rule(A, b):\n",
        "        n = len(A)\n",
        "        det_A = np.linalg.det(A)\n",
        "        if det_A == 0:\n",
        "            raise ValueError(\"O sistema não tem solução única\")\n",
        "        solutions = []\n",
        "        for i in range(n):\n",
        "            Ai = np.copy(A)\n",
        "            Ai[:, i] = b\n",
        "            solutions.append(np.linalg.det(Ai) / det_A)\n",
        "        return np.array(solutions)\n",
        "\n",
        "    solution = cramer_rule(A, b)\n",
        "    print(\"Solução encontrada pela regra de Cramer:\", solution)\n"
      ],
      "metadata": {
        "colab": {
          "base_uri": "https://localhost:8080/"
        },
        "id": "_GP5SxUwxePs",
        "outputId": "7fa9ab75-6954-40ec-bd3b-48c5d8843430"
      },
      "execution_count": 4,
      "outputs": [
        {
          "output_type": "stream",
          "name": "stdout",
          "text": [
            "A matriz é diagonalmente dominante. Vamos aplicar o método de Gauss-Seidel.\n",
            "Solução encontrada pelo método de Gauss-Seidel: [1 1 1]\n"
          ]
        }
      ]
    },
    {
      "cell_type": "code",
      "source": [
        "import numpy as np\n",
        "\n",
        "A = np.array([\n",
        "    [3, 0, 1],\n",
        "    [1, -1, 0],\n",
        "    [3, 1, 2]\n",
        "])\n",
        "\n",
        "b = np.array([3, 30, 9])\n",
        "\n",
        "def is_diagonally_dominant(A):\n",
        "    D = np.diag(np.abs(A))\n",
        "    S = np.sum(np.abs(A), axis=1) - D\n",
        "    return np.all(D >= S)\n",
        "\n",
        "if is_diagonally_dominant(A):\n",
        "    print(\"A matriz é diagonalmente dominante. Vamos aplicar o método de Gauss-Seidel.\")\n",
        "\n",
        "    def gauss_seidel(A, b, x0=None, tol=1e-10, max_iterations=1000):\n",
        "        n = len(A)\n",
        "        x = np.zeros_like(b) if x0 is None else x0\n",
        "        for _ in range(max_iterations):\n",
        "            x_new = np.copy(x)\n",
        "            for i in range(n):\n",
        "                s1 = np.dot(A[i, :i], x_new[:i])\n",
        "                s2 = np.dot(A[i, i + 1:], x[i + 1:])\n",
        "                x_new[i] = (b[i] - s1 - s2) / A[i, i]\n",
        "            if np.linalg.norm(x_new - x, ord=np.inf) < tol:\n",
        "                return x_new\n",
        "            x = x_new\n",
        "        raise ValueError(\"Gauss-Seidel method did not converge\")\n",
        "\n",
        "    x0 = np.zeros_like(b)\n",
        "    solution = gauss_seidel(A, b, x0)\n",
        "    print(\"Solução encontrada pelo método de Gauss-Seidel:\", solution)\n",
        "\n",
        "else:\n",
        "    print(\"A matriz não é diagonalmente dominante. Vamos aplicar a regra de Cramer.\")\n",
        "\n",
        "    def cramer_rule(A, b):\n",
        "        n = len(A)\n",
        "        det_A = np.linalg.det(A)\n",
        "        if det_A == 0:\n",
        "            raise ValueError(\"O sistema não tem solução única\")\n",
        "        solutions = []\n",
        "        for i in range(n):\n",
        "            Ai = np.copy(A)\n",
        "            Ai[:, i] = b\n",
        "            solutions.append(np.linalg.det(Ai) / det_A)\n",
        "        return np.array(solutions)\n",
        "\n",
        "    solution = cramer_rule(A, b)\n",
        "    print(\"Solução encontrada pela regra de Cramer:\", solution)\n"
      ],
      "metadata": {
        "colab": {
          "base_uri": "https://localhost:8080/"
        },
        "id": "bXEEUj_zycDK",
        "outputId": "dcfa9d13-7200-46f8-9fbf-24f6fd4bcf06"
      },
      "execution_count": 6,
      "outputs": [
        {
          "output_type": "stream",
          "name": "stdout",
          "text": [
            "A matriz não é diagonalmente dominante. Vamos aplicar a regra de Cramer.\n",
            "Solução encontrada pela regra de Cramer: [-16.5 -46.5  52.5]\n"
          ]
        }
      ]
    },
    {
      "cell_type": "code",
      "source": [
        "import numpy as np\n",
        "\n",
        "A = np.array([\n",
        "    [1, 2, 4],\n",
        "    [2, -1, 2],\n",
        "    [3, -3, -1]\n",
        "])\n",
        "\n",
        "b = np.array([5, 8, 7])\n",
        "\n",
        "def is_diagonally_dominant(A):\n",
        "    D = np.diag(np.abs(A))\n",
        "    S = np.sum(np.abs(A), axis=1) - D\n",
        "    return np.all(D >= S)\n",
        "\n",
        "if is_diagonally_dominant(A):\n",
        "    print(\"A matriz é diagonalmente dominante. Vamos aplicar o método de Gauss-Seidel.\")\n",
        "\n",
        "    def gauss_seidel(A, b, x0=None, tol=1e-10, max_iterations=1000):\n",
        "        n = len(A)\n",
        "        x = np.zeros_like(b) if x0 is None else x0\n",
        "        for _ in range(max_iterations):\n",
        "            x_new = np.copy(x)\n",
        "            for i in range(n):\n",
        "                s1 = np.dot(A[i, :i], x_new[:i])\n",
        "                s2 = np.dot(A[i, i + 1:], x[i + 1:])\n",
        "                x_new[i] = (b[i] - s1 - s2) / A[i, i]\n",
        "            if np.linalg.norm(x_new - x, ord=np.inf) < tol:\n",
        "                return x_new\n",
        "            x = x_new\n",
        "        raise ValueError(\"Gauss-Seidel method did not converge\")\n",
        "\n",
        "    x0 = np.zeros_like(b)\n",
        "    solution = gauss_seidel(A, b, x0)\n",
        "    print(\"Solução encontrada pelo método de Gauss-Seidel:\", solution)\n",
        "\n",
        "else:\n",
        "    print(\"A matriz não é diagonalmente dominante. Vamos aplicar a regra de Cramer.\")\n",
        "\n",
        "    def cramer_rule(A, b):\n",
        "        n = len(A)\n",
        "        det_A = np.linalg.det(A)\n",
        "        if det_A == 0:\n",
        "            raise ValueError(\"O sistema não tem solução única\")\n",
        "        solutions = []\n",
        "        for i in range(n):\n",
        "            Ai = np.copy(A)\n",
        "            Ai[:, i] = b\n",
        "            solutions.append(np.linalg.det(Ai) / det_A)\n",
        "        return np.array(solutions)\n",
        "\n",
        "    solution = cramer_rule(A, b)\n",
        "    print(\"Solução encontrada pela regra de Cramer:\", solution)\n"
      ],
      "metadata": {
        "colab": {
          "base_uri": "https://localhost:8080/"
        },
        "id": "lxWv7pGbzJOM",
        "outputId": "f948dd12-8afb-4945-f82a-852e8b54472c"
      },
      "execution_count": 8,
      "outputs": [
        {
          "output_type": "stream",
          "name": "stdout",
          "text": [
            "A matriz não é diagonalmente dominante. Vamos aplicar a regra de Cramer.\n",
            "Solução encontrada pela regra de Cramer: [ 1. -2.  2.]\n"
          ]
        }
      ]
    },
    {
      "cell_type": "code",
      "source": [
        "import numpy as np\n",
        "\n",
        "A = np.array([\n",
        "    [10, 1, 1],\n",
        "    [1, 10, 1],\n",
        "    [1, 1, 10]\n",
        "])\n",
        "\n",
        "b = np.array([12, 12, 12])\n",
        "\n",
        "def is_diagonally_dominant(A):\n",
        "    D = np.diag(np.abs(A))\n",
        "    S = np.sum(np.abs(A), axis=1) - D\n",
        "    return np.all(D >= S)\n",
        "\n",
        "if is_diagonally_dominant(A):\n",
        "    print(\"A matriz é diagonalmente dominante. Vamos aplicar o método de Gauss-Seidel.\")\n",
        "\n",
        "    def gauss_seidel(A, b, x0=None, tol=1e-10, max_iterations=1000):\n",
        "        n = len(A)\n",
        "        x = np.zeros_like(b) if x0 is None else x0\n",
        "        for _ in range(max_iterations):\n",
        "            x_new = np.copy(x)\n",
        "            for i in range(n):\n",
        "                s1 = np.dot(A[i, :i], x_new[:i])\n",
        "                s2 = np.dot(A[i, i + 1:], x[i + 1:])\n",
        "                x_new[i] = (b[i] - s1 - s2) / A[i, i]\n",
        "            if np.linalg.norm(x_new - x, ord=np.inf) < tol:\n",
        "                return x_new\n",
        "            x = x_new\n",
        "        raise ValueError(\"Gauss-Seidel method did not converge\")\n",
        "\n",
        "    x0 = np.zeros_like(b)\n",
        "    solution = gauss_seidel(A, b, x0)\n",
        "    print(\"Solução encontrada pelo método de Gauss-Seidel:\", solution)\n",
        "\n",
        "else:\n",
        "    print(\"A matriz não é diagonalmente dominante. Vamos aplicar a regra de Cramer.\")\n",
        "\n",
        "    def cramer_rule(A, b):\n",
        "        n = len(A)\n",
        "        det_A = np.linalg.det(A)\n",
        "        if det_A == 0:\n",
        "            raise ValueError(\"O sistema não tem solução única\")\n",
        "        solutions = []\n",
        "        for i in range(n):\n",
        "            Ai = np.copy(A)\n",
        "            Ai[:, i] = b\n",
        "            solutions.append(np.linalg.det(Ai) / det_A)\n",
        "        return np.array(solutions)\n",
        "\n",
        "    solution = cramer_rule(A, b)\n",
        "    print(\"Solução encontrada pela regra de Cramer:\", solution)\n"
      ],
      "metadata": {
        "colab": {
          "base_uri": "https://localhost:8080/"
        },
        "id": "8SShmWOp7oE5",
        "outputId": "cd3eff8c-581e-4993-e287-a7b1d70cc70a"
      },
      "execution_count": 10,
      "outputs": [
        {
          "output_type": "stream",
          "name": "stdout",
          "text": [
            "A matriz é diagonalmente dominante. Vamos aplicar o método de Gauss-Seidel.\n",
            "Solução encontrada pelo método de Gauss-Seidel: [1 1 1]\n"
          ]
        }
      ]
    }
  ]
}