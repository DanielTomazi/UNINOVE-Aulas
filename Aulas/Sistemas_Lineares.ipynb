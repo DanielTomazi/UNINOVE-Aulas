{
  "nbformat": 4,
  "nbformat_minor": 0,
  "metadata": {
    "colab": {
      "provenance": []
    },
    "kernelspec": {
      "name": "python3",
      "display_name": "Python 3"
    },
    "language_info": {
      "name": "python"
    }
  },
  "cells": [
    {
      "cell_type": "code",
      "execution_count": 1,
      "metadata": {
        "colab": {
          "base_uri": "https://localhost:8080/"
        },
        "id": "D-i0OdK5sVjK",
        "outputId": "60943f26-72b3-4442-a0ea-711a022f7654"
      },
      "outputs": [
        {
          "output_type": "stream",
          "name": "stdout",
          "text": [
            "A solução do sistema é: [ 3. -1.]\n",
            "O sistema é SPD (sistema possível e determinado)\n"
          ]
        }
      ],
      "source": [
        "import numpy as np\n",
        "\n",
        "A = np.array([[2, -1], [1, 5]])\n",
        "b = np.array([7, -2])\n",
        "\n",
        "try:\n",
        "    solution = np.linalg.solve(A, b)\n",
        "    print(\"A solução do sistema é:\", solution)\n",
        "\n",
        "    print(\"O sistema é SPD (sistema possível e determinado)\")\n",
        "\n",
        "except np.linalg.LinAlgError:\n",
        "    rank_A = np.linalg.matrix_rank(A)\n",
        "    augmented_matrix = np.column_stack((A, b))\n",
        "    rank_augmented = np.linalg.matrix_rank(augmented_matrix)\n",
        "\n",
        "    if rank_A == rank_augmented:\n",
        "        print(\"O sistema é SPI (sistema possível e indeterminado)\")\n",
        "    else:\n",
        "        print(\"O sistema é SI (sistema impossível)\")\n"
      ]
    },
    {
      "cell_type": "code",
      "source": [
        "import numpy as np\n",
        "\n",
        "A = np.array([[1, 2, -1], [3, -4, 5], [1, 1, 9]])\n",
        "b = np.array([0, 10, 1])\n",
        "\n",
        "try:\n",
        "    solution = np.linalg.solve(A, b)\n",
        "    solution_result = f\"Solução do sistema: x = {solution[0]}, y = {solution[1]}, z = {solution[2]}\\nClassificação: SPD (sistema possível e determinado)\"\n",
        "except np.linalg.LinAlgError:\n",
        "    rank_A = np.linalg.matrix_rank(A)\n",
        "    augmented_matrix = np.column_stack((A, b))\n",
        "    rank_augmented = np.linalg.matrix_rank(augmented_matrix)\n",
        "\n",
        "    if rank_A == rank_augmented:\n",
        "        solution_result = \"Classificação: SPI (sistema possível e indeterminado)\"\n",
        "    else:\n",
        "        solution_result = \"Classificação: SI (sistema impossível)\"\n",
        "\n",
        "print(solution_result)\n",
        "\n",
        "\n"
      ],
      "metadata": {
        "colab": {
          "base_uri": "https://localhost:8080/"
        },
        "id": "tMwaBW8xvVBu",
        "outputId": "894f5bcf-ae55-4f5c-9d47-746744d0efc1"
      },
      "execution_count": 17,
      "outputs": [
        {
          "output_type": "stream",
          "name": "stdout",
          "text": [
            "Solução do sistema: x = 2.0, y = -1.0, z = 4.827056628805029e-17\n",
            "Classificação: SPD (sistema possível e determinado)\n"
          ]
        }
      ]
    },
    {
      "cell_type": "code",
      "source": [
        "import numpy as np\n",
        "\n",
        "A = np.array([[1, 2], [2, -3]])\n",
        "B = np.array([5, -4])\n",
        "\n",
        "sol = np.linalg.solve(A, B)\n",
        "\n",
        "if np.linalg.matrix_rank(A) == np.linalg.matrix_rank(np.column_stack((A, B))):\n",
        "    if np.linalg.matrix_rank(A) == A.shape[1]:\n",
        "        print(\"O sistema é SPD (Sistema Possível e Determinado)\")\n",
        "    else:\n",
        "        print(\"O sistema é SPI (Sistema Possível e Indeterminado)\")\n",
        "else:\n",
        "    print(\"O sistema é SI (Sistema Impossível)\")\n",
        "\n",
        "print(\"A solução do sistema é:\")\n",
        "print(\"x =\", sol[0])\n",
        "print(\"y =\", sol[1])"
      ],
      "metadata": {
        "colab": {
          "base_uri": "https://localhost:8080/"
        },
        "id": "v9wddZ4_yeyv",
        "outputId": "95b3e013-5817-4f73-a7fa-c2fe2467ae21"
      },
      "execution_count": 5,
      "outputs": [
        {
          "output_type": "stream",
          "name": "stdout",
          "text": [
            "O sistema é SPD (Sistema Possível e Determinado)\n",
            "A solução do sistema é:\n",
            "x = 1.0\n",
            "y = 2.0\n"
          ]
        }
      ]
    },
    {
      "cell_type": "code",
      "source": [
        "import numpy as np\n",
        "\n",
        "A = np.array([[1, 1], [2, 2]])\n",
        "B = np.array([5, 10])\n",
        "\n",
        "if np.array_equal(np.dot(A, [1, 1]), np.dot(A, [0, 0])) and np.array_equal(B, np.dot(A, [1, 1])):\n",
        "    print(\"O sistema é SPI (Sistema Possível e Indeterminado)\")\n",
        "else:\n",
        "    if np.linalg.matrix_rank(A) == np.linalg.matrix_rank(np.column_stack((A, B))):\n",
        "        if np.linalg.matrix_rank(A) == A.shape[1]:\n",
        "            print(\"O sistema é SPD (Sistema Possível e Determinado)\")\n",
        "        else:\n",
        "            print(\"O sistema é SI (Sistema Impossível)\")\n",
        "\n",
        "# Como o sistema é SPI, não há necessidade de calcular a solução"
      ],
      "metadata": {
        "colab": {
          "base_uri": "https://localhost:8080/"
        },
        "id": "TL9L_8QUymFu",
        "outputId": "8b267c58-b19e-4152-8024-ba03515c56df"
      },
      "execution_count": 11,
      "outputs": [
        {
          "output_type": "stream",
          "name": "stdout",
          "text": [
            "O sistema é SI (Sistema Impossível)\n"
          ]
        }
      ]
    },
    {
      "cell_type": "code",
      "source": [
        "import numpy as np\n",
        "\n",
        "A = np.array([[2, -1, 1], [1, -1, 2], [1, 1, 1]])\n",
        "B = np.array([3, 3, 6])\n",
        "\n",
        "try:\n",
        "    sol = np.linalg.solve(A, B)\n",
        "except np.linalg.LinAlgError:\n",
        "    sol = None\n",
        "\n",
        "if sol is not None:\n",
        "    print(\"O sistema é SPD (Sistema Possível e Determinado)\")\n",
        "    print(\"A solução do sistema é:\")\n",
        "    print(\"a =\", \"{:.2f}\".format(sol[0]))\n",
        "    print(\"b =\", \"{:.2f}\".format(sol[1]))\n",
        "    print(\"c =\", \"{:.2f}\".format(sol[2]))\n",
        "else:\n",
        "    if np.linalg.matrix_rank(A) == np.linalg.matrix_rank(np.column_stack((A, B))):\n",
        "        if np.linalg.matrix_rank(A) == A.shape[1]:\n",
        "            print(\"O sistema é SPI (Sistema Possível e Indeterminado)\")\n",
        "        else:\n",
        "            print(\"O sistema é SI (Sistema Impossível)\")\n",
        "    else:\n",
        "        print(\"O sistema é SI (Sistema Impossível)\")"
      ],
      "metadata": {
        "colab": {
          "base_uri": "https://localhost:8080/"
        },
        "id": "XSg-KNanz_PS",
        "outputId": "90795ae8-2279-42ce-a842-e45abae6b5b4"
      },
      "execution_count": 14,
      "outputs": [
        {
          "output_type": "stream",
          "name": "stdout",
          "text": [
            "O sistema é SPD (Sistema Possível e Determinado)\n",
            "A solução do sistema é:\n",
            "a = 1.80\n",
            "b = 2.40\n",
            "c = 1.80\n"
          ]
        }
      ]
    },
    {
      "cell_type": "code",
      "source": [
        "import numpy as np\n",
        "\n",
        "A = np.array([[1, 4, 7], [2, 3, 6], [5, 1, -1]])\n",
        "B = np.array([2, 2, 8])\n",
        "\n",
        "try:\n",
        "    sol = np.linalg.solve(A, B)\n",
        "except np.linalg.LinAlgError:\n",
        "    sol = None\n",
        "\n",
        "if sol is not None:\n",
        "    print(\"O sistema é SPD (Sistema Possível e Determinado)\")\n",
        "    print(\"A solução do sistema é:\")\n",
        "    print(\"x =\", \"{:.2f}\".format(sol[0]))\n",
        "    print(\"y =\", \"{:.2f}\".format(sol[1]))\n",
        "    print(\"z =\", \"{:.2f}\".format(sol[2]))\n",
        "else:\n",
        "    if np.linalg.matrix_rank(A) == np.linalg.matrix_rank(np.column_stack((A, B))):\n",
        "        if np.linalg.matrix_rank(A) == A.shape[1]:\n",
        "            print(\"O sistema é SPI (Sistema Possível e Indeterminado)\")\n",
        "        else:\n",
        "            print(\"O sistema é SI (Sistema Impossível)\")\n",
        "    else:\n",
        "        print(\"O sistema é SI (Sistema Impossível)\")"
      ],
      "metadata": {
        "colab": {
          "base_uri": "https://localhost:8080/"
        },
        "id": "iijEpOG01NlQ",
        "outputId": "47403c08-eded-45f0-dbb3-615f71fdc53e"
      },
      "execution_count": 16,
      "outputs": [
        {
          "output_type": "stream",
          "name": "stdout",
          "text": [
            "O sistema é SPD (Sistema Possível e Determinado)\n",
            "A solução do sistema é:\n",
            "x = 1.00\n",
            "y = 2.00\n",
            "z = -1.00\n"
          ]
        }
      ]
    }
  ]
}